{
 "cells": [
  {
   "cell_type": "code",
   "execution_count": 2,
   "id": "c100fac6-36dc-4091-9618-9efc86bad956",
   "metadata": {},
   "outputs": [],
   "source": [
    "from inference import *"
   ]
  },
  {
   "cell_type": "code",
   "execution_count": 3,
   "id": "9237875d-814a-4290-ae8b-108fee11df05",
   "metadata": {},
   "outputs": [],
   "source": [
    "model = build_inf_model('./best_checkpoint')"
   ]
  },
  {
   "cell_type": "code",
   "execution_count": 6,
   "id": "e0e8823f-3934-4dac-b88f-4fd7a0bbd885",
   "metadata": {},
   "outputs": [
    {
     "name": "stdout",
     "output_type": "stream",
     "text": [
      "and i said she was both not making even when my days you was\n"
     ]
    }
   ],
   "source": [
    "print(generate_text(model, \"lyrics.txt\", start_string=u\"and i said\", t=0.5, length_char=50))"
   ]
  },
  {
   "cell_type": "code",
   "execution_count": null,
   "id": "87404f5e",
   "metadata": {},
   "outputs": [],
   "source": []
  }
 ],
 "metadata": {
  "kernelspec": {
   "display_name": "Python 3 (ipykernel)",
   "language": "python",
   "name": "python3"
  },
  "language_info": {
   "codemirror_mode": {
    "name": "ipython",
    "version": 3
   },
   "file_extension": ".py",
   "mimetype": "text/x-python",
   "name": "python",
   "nbconvert_exporter": "python",
   "pygments_lexer": "ipython3",
   "version": "3.7.0"
  }
 },
 "nbformat": 4,
 "nbformat_minor": 5
}
