{
 "cells": [
  {
   "cell_type": "code",
   "execution_count": 1,
   "id": "c100fac6-36dc-4091-9618-9efc86bad956",
   "metadata": {},
   "outputs": [],
   "source": [
    "from inference import *"
   ]
  },
  {
   "cell_type": "code",
   "execution_count": 2,
   "id": "9237875d-814a-4290-ae8b-108fee11df05",
   "metadata": {},
   "outputs": [],
   "source": [
    "model = build_inf_model('./best_checkpoint')"
   ]
  },
  {
   "cell_type": "code",
   "execution_count": 3,
   "id": "e0e8823f-3934-4dac-b88f-4fd7a0bbd885",
   "metadata": {},
   "outputs": [
    {
     "ename": "NameError",
     "evalue": "name 'lyrics_path' is not defined",
     "output_type": "error",
     "traceback": [
      "\u001b[1;31m---------------------------------------------------------------------------\u001b[0m",
      "\u001b[1;31mNameError\u001b[0m                                 Traceback (most recent call last)",
      "\u001b[1;32m~\\AppData\\Local\\Temp/ipykernel_29764/210246209.py\u001b[0m in \u001b[0;36m<module>\u001b[1;34m\u001b[0m\n\u001b[1;32m----> 1\u001b[1;33m \u001b[0mprint\u001b[0m\u001b[1;33m(\u001b[0m\u001b[0mgenerate_text\u001b[0m\u001b[1;33m(\u001b[0m\u001b[0mmodel\u001b[0m\u001b[1;33m,\u001b[0m \u001b[0mlyrics_path\u001b[0m\u001b[1;33m,\u001b[0m \u001b[0mstart_string\u001b[0m\u001b[1;33m=\u001b[0m\u001b[1;34mu\"and i said\"\u001b[0m\u001b[1;33m,\u001b[0m \u001b[0mt\u001b[0m\u001b[1;33m=\u001b[0m\u001b[1;36m0.6\u001b[0m\u001b[1;33m,\u001b[0m \u001b[0mlength_char\u001b[0m\u001b[1;33m=\u001b[0m\u001b[1;36m50\u001b[0m\u001b[1;33m)\u001b[0m\u001b[1;33m)\u001b[0m\u001b[1;33m\u001b[0m\u001b[0m\n\u001b[0m",
      "\u001b[1;31mNameError\u001b[0m: name 'lyrics_path' is not defined"
     ]
    }
   ],
   "source": [
    "print(generate_text(model, lyrics_path, start_string=u\"and i said\", t=0.6, length_char=50))"
   ]
  }
 ],
 "metadata": {
  "kernelspec": {
   "display_name": "Python 3 (ipykernel)",
   "language": "python",
   "name": "python3"
  },
  "language_info": {
   "codemirror_mode": {
    "name": "ipython",
    "version": 3
   },
   "file_extension": ".py",
   "mimetype": "text/x-python",
   "name": "python",
   "nbconvert_exporter": "python",
   "pygments_lexer": "ipython3",
   "version": "3.7.0"
  }
 },
 "nbformat": 4,
 "nbformat_minor": 5
}
