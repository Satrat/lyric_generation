{
 "cells": [
  {
   "cell_type": "code",
   "execution_count": 1,
   "id": "c100fac6-36dc-4091-9618-9efc86bad956",
   "metadata": {},
   "outputs": [],
   "source": [
    "from inference import *"
   ]
  },
  {
   "cell_type": "code",
   "execution_count": 2,
   "id": "9237875d-814a-4290-ae8b-108fee11df05",
   "metadata": {},
   "outputs": [],
   "source": [
    "model = build_inf_model('./training_checkpoints_tf2')"
   ]
  },
  {
   "cell_type": "code",
   "execution_count": 3,
   "id": "e0e8823f-3934-4dac-b88f-4fd7a0bbd885",
   "metadata": {},
   "outputs": [
    {
     "name": "stdout",
     "output_type": "stream",
     "text": [
      "38 38\n",
      "and i said \n",
      " i still love you but i just can't do this i ma\n"
     ]
    }
   ],
   "source": [
    "print(generate_text(model, \"lyrics.txt\", start_string=u\"and i said\", t=0.6, length_char=50))"
   ]
  },
  {
   "cell_type": "code",
   "execution_count": 6,
   "id": "e26e6767",
   "metadata": {},
   "outputs": [
    {
     "name": "stdout",
     "output_type": "stream",
     "text": [
      "37\n",
      "['\\n', ' ', \"'\", '0', '4', '5', '6', '7', '8', '9', '_', 'a', 'b', 'c', 'd', 'e', 'f', 'g', 'h', 'i', 'j', 'k', 'l', 'm', 'n', 'o', 'p', 'q', 'r', 's', 't', 'u', 'v', 'w', 'x', 'y', 'z']\n"
     ]
    }
   ],
   "source": [
    "WINDOWS_LINE_ENDING = '\\r\\n'\n",
    "UNIX_LINE_ENDING = '\\n'\n",
    "text = open(\"lyrics.txt\", 'rb').read().decode(encoding='utf-8')\n",
    "text = text.replace('\\r\\n', '\\n')\n",
    "vocab = sorted(set(text))\n",
    "print(len(vocab))\n",
    "print(vocab)"
   ]
  },
  {
   "cell_type": "code",
   "execution_count": null,
   "id": "87404f5e",
   "metadata": {},
   "outputs": [],
   "source": []
  }
 ],
 "metadata": {
  "kernelspec": {
   "display_name": "Python 3 (ipykernel)",
   "language": "python",
   "name": "python3"
  },
  "language_info": {
   "codemirror_mode": {
    "name": "ipython",
    "version": 3
   },
   "file_extension": ".py",
   "mimetype": "text/x-python",
   "name": "python",
   "nbconvert_exporter": "python",
   "pygments_lexer": "ipython3",
   "version": "3.7.0"
  }
 },
 "nbformat": 4,
 "nbformat_minor": 5
}
